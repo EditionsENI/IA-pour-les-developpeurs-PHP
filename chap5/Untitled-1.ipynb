{
 "cells": [
  {
   "cell_type": "code",
   "execution_count": 2,
   "metadata": {},
   "outputs": [],
   "source": [
    "import pandas as pd\n",
    "import numpy as np\n",
    "import seaborn as sb\n",
    "import matplotlib.pyplot as plt"
   ]
  },
  {
   "cell_type": "code",
   "execution_count": 12,
   "metadata": {},
   "outputs": [],
   "source": [
    "# Load the data\n",
    "df1 = pd.read_csv('housing.csv')\n",
    "df1.drop(['ocean_proximity'], axis=1, inplace=True)\n",
    "# drop a row if total_bedrooms is equal to \"NAN\"\n",
    "indexNames = df1[df1['total_bedrooms'] == 'NAN'].index\n",
    "df1.drop(indexNames, inplace=True)\n"
   ]
  },
  {
   "cell_type": "code",
   "execution_count": 13,
   "metadata": {},
   "outputs": [
    {
     "name": "stdout",
     "output_type": "stream",
     "text": [
      "R² of Linear Regression on training set: 0.641\n",
      "R² of Linear Regression on test set: 0.622\n"
     ]
    }
   ],
   "source": [
    "from sklearn.model_selection import train_test_split\n",
    "X_train, X_test, y_train, y_test = train_test_split(df1.loc[:, df1.columns != 'median_house_value'], df1['median_house_value'], random_state=66)\n",
    "\n",
    "# Linear Regression\n",
    "\n",
    "from sklearn.linear_model import LinearRegression\n",
    "linreg = LinearRegression()\n",
    "\n",
    "#fit the model\n",
    "linreg.fit(X_train, y_train)\n",
    "\n",
    "l1 = linreg.score(X_train, y_train)\n",
    "l2 = linreg.score(X_test, y_test)\n",
    "print('R² of Linear Regression on training set: {:.3f}'.format(l1))\n",
    "print('R² of Linear Regression on test set: {:.3f}'.format(l2))"
   ]
  },
  {
   "cell_type": "code",
   "execution_count": 16,
   "metadata": {},
   "outputs": [
    {
     "name": "stdout",
     "output_type": "stream",
     "text": [
      "R² of SVR on training set: -0.052\n",
      "R² of SVR on test set: -0.071\n"
     ]
    }
   ],
   "source": [
    "#apply the model SVR\n",
    "from sklearn.svm import SVR\n",
    "svr = SVR()\n",
    "\n",
    "#Apply normalization\n",
    "from sklearn.preprocessing import MinMaxScaler\n",
    "\n",
    "scaler = MinMaxScaler()\n",
    "scaler.fit(X_train)\n",
    "X_train_scaled = scaler.transform(X_train)\n",
    "X_test_scaled = scaler.transform(X_test)\n",
    "\n",
    "#fit the model\n",
    "svr.fit(X_train_scaled, y_train)\n",
    "\n",
    "s1 = svr.score(X_train_scaled, y_train)\n",
    "s2 = svr.score(X_test_scaled, y_test)\n",
    "\n",
    "print('R² of SVR on training set: {:.3f}'.format(s1))\n",
    "print('R² of SVR on test set: {:.3f}'.format(s2))\n"
   ]
  }
 ],
 "metadata": {
  "kernelspec": {
   "display_name": "Python 3",
   "language": "python",
   "name": "python3"
  },
  "language_info": {
   "codemirror_mode": {
    "name": "ipython",
    "version": 3
   },
   "file_extension": ".py",
   "mimetype": "text/x-python",
   "name": "python",
   "nbconvert_exporter": "python",
   "pygments_lexer": "ipython3",
   "version": "3.10.9"
  }
 },
 "nbformat": 4,
 "nbformat_minor": 2
}
